{
 "cells": [
  {
   "cell_type": "markdown",
   "metadata": {},
   "source": [
    "### Comparing the SM dataset\n",
    "\n",
    "Using the yearly SM datasets to the comparison due to computation limits"
   ]
  },
  {
   "cell_type": "code",
   "execution_count": 1,
   "metadata": {},
   "outputs": [],
   "source": [
    "import xarray as xr\n",
    "import pandas as pd\n",
    "import dask.dataframe as dd\n",
    "import os\n",
    "import numpy as np\n",
    "\n",
    "path2data = \"/Users/tejasvi/Dropbox/Database/Hydrology/era5_land_soil_moisture/\"\n",
    "path2out = \"/Users/tejasvi/Dropbox/Database/Hydrology/era5_land_soil_moisture/processed/\"\n",
    "path2Wang = \"/Users/tejasvi/Dropbox/Database/Hydrology/Wang_2021_Soil_Moisture/processed/\""
   ]
  },
  {
   "cell_type": "code",
   "execution_count": 2,
   "metadata": {},
   "outputs": [
    {
     "name": "stdout",
     "output_type": "stream",
     "text": [
      "(11923200, 5)\n",
      "     lon    lat  yearmon  year month  swvl_0_100  swvl_0_289\n",
      "0 -180.0 -89.75  1979-01  1979    01    0.205914    0.166020\n",
      "1 -179.5 -89.75  1979-01  1979    01    0.205157    0.165758\n",
      "2 -179.0 -89.75  1979-01  1979    01    0.204446    0.165513\n",
      "3 -178.5 -89.75  1979-01  1979    01    0.203720    0.165261\n",
      "4 -178.0 -89.75  1979-01  1979    01    0.203007    0.165014\n"
     ]
    }
   ],
   "source": [
    "# Load the ERA5-Land dataset\n",
    "ds_era = xr.open_dataset(path2out + \"swvl_yearly_avg.nc\")\n",
    "# Print to see structure (optional)\n",
    "#print(ds)\n",
    "\n",
    "# Select specific variables to include (e.g., swvl1, swvl2)\n",
    "selected_vars = ['swvl_0_100', 'swvl_0_289']\n",
    "\n",
    "# Convert selected variables to a long-format DataFrame\n",
    "df_era = ds_era[selected_vars].to_dataframe().reset_index()\n",
    "\n",
    "print(df_era.shape)\n",
    "\n",
    "# Convert to Dask DataFrame\n",
    "df_era = dd.from_pandas(df_era, npartitions=4)\n",
    "\n",
    "#Add relevant time vars\n",
    "# Ensure the date_column is of string type\n",
    "df_era['time'] = df_era['time'].astype(str)\n",
    "\n",
    "# Extract 'yearmon' (first 7 characters: 'YYYY-MM')\n",
    "df_era['yearmon'] = df_era['time'].str[:7]\n",
    "\n",
    "# Extract 'year' (first 4 characters: 'YYYY')\n",
    "df_era['year'] = df_era['time'].str[:4].astype('int64')\n",
    "\n",
    "# Extract 'month' (characters at position 6-7: 'MM')\n",
    "df_era['month'] = df_era['time'].str[5:7]\n",
    "\n",
    "df_era['lon'] = df_era['lon'].astype(float).round(2)\n",
    "df_era['lat'] = df_era['lat'].astype(float).round(2)\n",
    "\n",
    "df_era['lon'] = (df_era['lon'] + 180) % 360 - 180\n",
    "\n",
    "df_era = df_era.dropna(subset=['lon', 'lat', 'year'])\n",
    "\n",
    "# Select and re-order the columns as requested\n",
    "selected_columns = [\n",
    "    'lon', 'lat', 'yearmon', 'year', 'month', \n",
    "    'swvl_0_100', 'swvl_0_289'\n",
    "]\n",
    "\n",
    "# Re-order the DataFrame based on the selected columns\n",
    "df_era = df_era[selected_columns]\n",
    "\n",
    "# Preview the DataFrame\n",
    "print(df_era.head())"
   ]
  },
  {
   "cell_type": "code",
   "execution_count": 3,
   "metadata": {},
   "outputs": [
    {
     "name": "stdout",
     "output_type": "stream",
     "text": [
      "(8552684, 4)\n",
      "      lon    lat  yearmon  year month  sm_0_100\n",
      "0 -179.75 -54.75  1970-01  1970    01       NaN\n",
      "1 -179.25 -54.75  1970-01  1970    01       NaN\n",
      "2 -178.75 -54.75  1970-01  1970    01       NaN\n",
      "3 -178.25 -54.75  1970-01  1970    01       NaN\n",
      "4 -177.75 -54.75  1970-01  1970    01       NaN\n"
     ]
    }
   ],
   "source": [
    "# Load the Wang dataset\n",
    "ds_wang = xr.open_dataset(path2Wang + \"yearly_avg.nc\")\n",
    "# Print to see structure (optional)\n",
    "#print(ds)\n",
    "\n",
    "# Select specific variables to include (e.g., swvl1, swvl2)\n",
    "selected_vars = ['sm_0_100']\n",
    "\n",
    "# Convert selected variables to a long-format DataFrame\n",
    "df_wang = ds_wang[selected_vars].to_dataframe().reset_index()\n",
    "\n",
    "print(df_wang.shape)\n",
    "\n",
    "# Convert to Dask DataFrame\n",
    "df_wang = dd.from_pandas(df_wang, npartitions=4)\n",
    "\n",
    "#Add relevant time vars\n",
    "# Ensure the date_column is of string type\n",
    "df_wang['time'] = df_wang['time'].astype(str)\n",
    "\n",
    "# Extract 'yearmon' (first 7 characters: 'YYYY-MM')\n",
    "df_wang['yearmon'] = df_wang['time'].str[:7]\n",
    "\n",
    "# Extract 'year' (first 4 characters: 'YYYY')\n",
    "df_wang['year'] = df_wang['time'].str[:4].astype('int64')\n",
    "\n",
    "# Extract 'month' (characters at position 6-7: 'MM')\n",
    "df_wang['month'] = df_wang['time'].str[5:7]\n",
    "\n",
    "df_wang['lon'] = df_wang['lon'].astype(float).round(2)\n",
    "df_wang['lat'] = df_wang['lat'].astype(float).round(2)\n",
    "\n",
    "df_wang['lon'] = (df_wang['lon'] + 180) % 360 - 180\n",
    "\n",
    "df_wang = df_wang.dropna(subset=['lon', 'lat', 'year'])\n",
    "\n",
    "# Select and re-order the columns as requested\n",
    "selected_columns = [\n",
    "    'lon', 'lat', 'yearmon', 'year', 'month', \n",
    "    'sm_0_100'\n",
    "]\n",
    "\n",
    "# Re-order the DataFrame based on the selected columns\n",
    "df_wang = df_wang[selected_columns]\n",
    "\n",
    "# Preview the DataFrame\n",
    "print(df_wang.head())\n"
   ]
  },
  {
   "cell_type": "code",
   "execution_count": 5,
   "metadata": {},
   "outputs": [
    {
     "name": "stdout",
     "output_type": "stream",
     "text": [
      "lon           float64\n",
      "lat           float64\n",
      "yearmon        object\n",
      "year            int64\n",
      "month          object\n",
      "swvl_0_100    float64\n",
      "swvl_0_289    float64\n",
      "dtype: object\n",
      "lon         float64\n",
      "lat         float64\n",
      "yearmon      object\n",
      "year          int64\n",
      "month        object\n",
      "sm_0_100    float64\n",
      "dtype: object\n",
      "Common year: 38\n",
      "Common lon: 720\n",
      "Common lat: 360\n"
     ]
    }
   ],
   "source": [
    "print(df_era.dtypes)\n",
    "print(df_wang.dtypes)\n",
    "\n",
    "# Convert to sets and compute\n",
    "year_common = set(df_era['year'].unique().compute()) & set(df_wang['year'].unique().compute())\n",
    "lon_common = set(df_era['lon'].unique().compute()) & set(df_era['lon'].unique().compute())\n",
    "lat_common = set(df_era['lat'].unique().compute()) & set(df_era['lat'].unique().compute())\n",
    "\n",
    "\n",
    "print(\"Common year:\", len(year_common))\n",
    "print(\"Common lon:\", len(lon_common))\n",
    "print(\"Common lat:\", len(lat_common))"
   ]
  },
  {
   "cell_type": "code",
   "execution_count": 18,
   "metadata": {},
   "outputs": [
    {
     "name": "stdout",
     "output_type": "stream",
     "text": [
      "(0, 10)\n",
      "Empty DataFrame\n",
      "Columns: [lon, lat, yearmon_x, year, month_x, swvl_0_100, swvl_0_289, yearmon_y, month_y, sm_0_100]\n",
      "Index: []\n"
     ]
    }
   ],
   "source": [
    "# Merge the two DataFrames on columns 'col1', 'col2', 'col3'\n",
    "df_merged = dd.merge(df_era, df_wang, on=['lon', 'lat', 'year'], how='inner')\n",
    "\n",
    "# Compute the result (this triggers the actual computation and brings the data into memory)\n",
    "df_merged = df_merged.compute()\n",
    "\n",
    "# Preview the DataFrame\n",
    "print(df_merged.shape)\n",
    "print(df_merged.head())"
   ]
  },
  {
   "cell_type": "code",
   "execution_count": 7,
   "metadata": {},
   "outputs": [
    {
     "name": "stdout",
     "output_type": "stream",
     "text": [
      "Number of matching key combinations: 0\n"
     ]
    }
   ],
   "source": [
    "# Get a sample of keys\n",
    "keys_era = df_era[['lon', 'lat', 'year']].drop_duplicates().compute()\n",
    "keys_wang = df_wang[['lon', 'lat', 'year']].drop_duplicates().compute()\n",
    "\n",
    "# Merge keys only to see if there's any overlap\n",
    "key_matches = keys_era.merge(keys_wang, on=['lon', 'lat', 'year'], how='inner')\n",
    "print(f\"Number of matching key combinations: {len(key_matches)}\")"
   ]
  },
  {
   "cell_type": "code",
   "execution_count": 15,
   "metadata": {},
   "outputs": [
    {
     "name": "stdout",
     "output_type": "stream",
     "text": [
      "ERA lat range & step: -89.75 89.75 [   nan    0.     0.5 -179.5]\n",
      "WANG lat range & step: -54.75 78.75 [   nan    0.     0.5 -133.5]\n",
      "ERA lon range & step: -180.0 179.5 [   nan    1.5    1.     4.5    2.     0.5   11.     3.     2.5   10.\n",
      "    8.     4.     7.5    5.5    3.5    5.     7.     8.5    9.     6.\n",
      " -353.     6.5   12.5 -354.5 -355.  -358.5 -358.  -353.5 -354.     9.5\n",
      " -359.5 -359.  -350.  -357.5 -355.5]\n",
      "WANG lon range & step: -179.75 179.75 [   nan    1.5    0.5    1.     5.5    2.     2.5    3.5    3.     4.\n",
      "    4.5   16.5   10.5    6.     5.     7.5    6.5   10.  -358.  -357.5\n",
      "    8.    22.    13.     7.  -355.  -356.     8.5 -359.  -354.5    9.\n",
      "   11.    26.5 -358.5 -355.5 -357.  -359.5]\n"
     ]
    }
   ],
   "source": [
    "print(\"ERA lat range & step:\", keys_era['lat'].min(), keys_era['lat'].max(), keys_era['lat'].diff().unique())\n",
    "print(\"WANG lat range & step:\", keys_wang['lat'].min(), keys_wang['lat'].max(), keys_wang['lat'].diff().unique())\n",
    "\n",
    "print(\"ERA lon range & step:\", keys_era['lon'].min(), keys_era['lon'].max(), keys_era['lon'].diff().unique())\n",
    "print(\"WANG lon range & step:\", keys_wang['lon'].min(), keys_wang['lon'].max(), keys_wang['lon'].diff().unique())"
   ]
  },
  {
   "cell_type": "code",
   "execution_count": null,
   "metadata": {},
   "outputs": [],
   "source": [
    "df_era_pandas = df_era.compute()\n",
    "df_wang_pandas = df_wang.compute()\n",
    "df_merged_pandas = pd.merge(df_era_pandas, df_wang_pandas, on=['lon', 'lat', 'year'], how='inner')\n",
    "print(df_merged_pandas)"
   ]
  },
  {
   "cell_type": "code",
   "execution_count": null,
   "metadata": {},
   "outputs": [],
   "source": []
  }
 ],
 "metadata": {
  "kernelspec": {
   "display_name": "gee_v1",
   "language": "python",
   "name": "python3"
  },
  "language_info": {
   "codemirror_mode": {
    "name": "ipython",
    "version": 3
   },
   "file_extension": ".py",
   "mimetype": "text/x-python",
   "name": "python",
   "nbconvert_exporter": "python",
   "pygments_lexer": "ipython3",
   "version": "3.12.7"
  }
 },
 "nbformat": 4,
 "nbformat_minor": 2
}
