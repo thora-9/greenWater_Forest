{
 "cells": [
  {
   "cell_type": "code",
   "execution_count": 19,
   "metadata": {},
   "outputs": [],
   "source": [
    "import pandas as pd\n",
    "import numpy as np\n",
    "import geopandas as gpd\n",
    "import rioxarray as riox\n",
    "\n",
    "test = 1"
   ]
  },
  {
   "cell_type": "code",
   "execution_count": 30,
   "metadata": {},
   "outputs": [
    {
     "ename": "ValueError",
     "evalue": "unrecognized chunk manager dask - must be one of: []",
     "output_type": "error",
     "traceback": [
      "\u001b[0;31m---------------------------------------------------------------------------\u001b[0m",
      "\u001b[0;31mValueError\u001b[0m                                Traceback (most recent call last)",
      "\u001b[1;32m/Users/tejasvi/Dropbox/Git/greenWater_Forest/python_explore/hello.ipynb Cell 2\u001b[0m line \u001b[0;36m2\n\u001b[1;32m      <a href='vscode-notebook-cell:/Users/tejasvi/Dropbox/Git/greenWater_Forest/python_explore/hello.ipynb#W1sZmlsZQ%3D%3D?line=0'>1</a>\u001b[0m india_boundary \u001b[39m=\u001b[39m gpd\u001b[39m.\u001b[39mread_file(\u001b[39m\"\u001b[39m\u001b[39m/Users/tejasvi/Dropbox/Database/Admin/India_boundary.gpkg\u001b[39m\u001b[39m\"\u001b[39m)\n\u001b[0;32m----> <a href='vscode-notebook-cell:/Users/tejasvi/Dropbox/Git/greenWater_Forest/python_explore/hello.ipynb#W1sZmlsZQ%3D%3D?line=1'>2</a>\u001b[0m test_raster \u001b[39m=\u001b[39m riox\u001b[39m.\u001b[39;49mopen_rasterio(\u001b[39m\"\u001b[39;49m\u001b[39m/Users/tejasvi/Dropbox/Database/Forestry/forest_fragmentation_Ma_2023/FFI2020.tif\u001b[39;49m\u001b[39m\"\u001b[39;49m,\n\u001b[1;32m      <a href='vscode-notebook-cell:/Users/tejasvi/Dropbox/Git/greenWater_Forest/python_explore/hello.ipynb#W1sZmlsZQ%3D%3D?line=2'>3</a>\u001b[0m                                  masked\u001b[39m=\u001b[39;49m\u001b[39mTrue\u001b[39;49;00m, chunks\u001b[39m=\u001b[39;49m(\u001b[39m3\u001b[39;49m, \u001b[39m5000\u001b[39;49m, \u001b[39m5000\u001b[39;49m))\n\u001b[1;32m      <a href='vscode-notebook-cell:/Users/tejasvi/Dropbox/Git/greenWater_Forest/python_explore/hello.ipynb#W1sZmlsZQ%3D%3D?line=4'>5</a>\u001b[0m india_boundary\n\u001b[1;32m      <a href='vscode-notebook-cell:/Users/tejasvi/Dropbox/Git/greenWater_Forest/python_explore/hello.ipynb#W1sZmlsZQ%3D%3D?line=5'>6</a>\u001b[0m test_raster\n",
      "File \u001b[0;32m~/Dropbox/Git/greenWater_Forest/python_explore/.venv/lib/python3.11/site-packages/rioxarray/_io.py:1264\u001b[0m, in \u001b[0;36mopen_rasterio\u001b[0;34m(filename, parse_coordinates, chunks, cache, lock, masked, mask_and_scale, variable, group, default_name, decode_times, decode_timedelta, band_as_variable, **open_kwargs)\u001b[0m\n\u001b[1;32m   1261\u001b[0m     result\u001b[39m.\u001b[39mrio\u001b[39m.\u001b[39mwrite_gcps(\u001b[39m*\u001b[39mriods\u001b[39m.\u001b[39mgcps, inplace\u001b[39m=\u001b[39m\u001b[39mTrue\u001b[39;00m)\n\u001b[1;32m   1263\u001b[0m \u001b[39mif\u001b[39;00m chunks \u001b[39mis\u001b[39;00m \u001b[39mnot\u001b[39;00m \u001b[39mNone\u001b[39;00m:\n\u001b[0;32m-> 1264\u001b[0m     result \u001b[39m=\u001b[39m _prepare_dask(result, riods, filename, chunks)\n\u001b[1;32m   1265\u001b[0m \u001b[39melse\u001b[39;00m:\n\u001b[1;32m   1266\u001b[0m     result\u001b[39m.\u001b[39mencoding[\u001b[39m\"\u001b[39m\u001b[39mpreferred_chunks\u001b[39m\u001b[39m\"\u001b[39m] \u001b[39m=\u001b[39m {\n\u001b[1;32m   1267\u001b[0m         result\u001b[39m.\u001b[39mrio\u001b[39m.\u001b[39my_dim: riods\u001b[39m.\u001b[39mblock_shapes[\u001b[39m0\u001b[39m][\u001b[39m0\u001b[39m],\n\u001b[1;32m   1268\u001b[0m         result\u001b[39m.\u001b[39mrio\u001b[39m.\u001b[39mx_dim: riods\u001b[39m.\u001b[39mblock_shapes[\u001b[39m0\u001b[39m][\u001b[39m1\u001b[39m],\n\u001b[1;32m   1269\u001b[0m         coord_name: \u001b[39m1\u001b[39m,\n\u001b[1;32m   1270\u001b[0m     }\n",
      "File \u001b[0;32m~/Dropbox/Git/greenWater_Forest/python_explore/.venv/lib/python3.11/site-packages/rioxarray/_io.py:929\u001b[0m, in \u001b[0;36m_prepare_dask\u001b[0;34m(result, riods, filename, chunks)\u001b[0m\n\u001b[1;32m    927\u001b[0m token \u001b[39m=\u001b[39m tokenize(filename, mtime, chunks)\n\u001b[1;32m    928\u001b[0m name_prefix \u001b[39m=\u001b[39m \u001b[39mf\u001b[39m\u001b[39m\"\u001b[39m\u001b[39mopen_rasterio-\u001b[39m\u001b[39m{\u001b[39;00mtoken\u001b[39m}\u001b[39;00m\u001b[39m\"\u001b[39m\n\u001b[0;32m--> 929\u001b[0m \u001b[39mreturn\u001b[39;00m result\u001b[39m.\u001b[39;49mchunk(chunks, name_prefix\u001b[39m=\u001b[39;49mname_prefix, token\u001b[39m=\u001b[39;49mtoken)\n",
      "File \u001b[0;32m~/Dropbox/Git/greenWater_Forest/python_explore/.venv/lib/python3.11/site-packages/xarray/util/deprecation_helpers.py:115\u001b[0m, in \u001b[0;36m_deprecate_positional_args.<locals>._decorator.<locals>.inner\u001b[0;34m(*args, **kwargs)\u001b[0m\n\u001b[1;32m    111\u001b[0m     kwargs\u001b[39m.\u001b[39mupdate({name: arg \u001b[39mfor\u001b[39;00m name, arg \u001b[39min\u001b[39;00m zip_args})\n\u001b[1;32m    113\u001b[0m     \u001b[39mreturn\u001b[39;00m func(\u001b[39m*\u001b[39margs[:\u001b[39m-\u001b[39mn_extra_args], \u001b[39m*\u001b[39m\u001b[39m*\u001b[39mkwargs)\n\u001b[0;32m--> 115\u001b[0m \u001b[39mreturn\u001b[39;00m func(\u001b[39m*\u001b[39;49margs, \u001b[39m*\u001b[39;49m\u001b[39m*\u001b[39;49mkwargs)\n",
      "File \u001b[0;32m~/Dropbox/Git/greenWater_Forest/python_explore/.venv/lib/python3.11/site-packages/xarray/core/dataarray.py:1391\u001b[0m, in \u001b[0;36mDataArray.chunk\u001b[0;34m(self, chunks, name_prefix, token, lock, inline_array, chunked_array_type, from_array_kwargs, **chunks_kwargs)\u001b[0m\n\u001b[1;32m   1388\u001b[0m \u001b[39melse\u001b[39;00m:\n\u001b[1;32m   1389\u001b[0m     chunks \u001b[39m=\u001b[39m either_dict_or_kwargs(chunks, chunks_kwargs, \u001b[39m\"\u001b[39m\u001b[39mchunk\u001b[39m\u001b[39m\"\u001b[39m)\n\u001b[0;32m-> 1391\u001b[0m ds \u001b[39m=\u001b[39m \u001b[39mself\u001b[39;49m\u001b[39m.\u001b[39;49m_to_temp_dataset()\u001b[39m.\u001b[39;49mchunk(\n\u001b[1;32m   1392\u001b[0m     chunks,\n\u001b[1;32m   1393\u001b[0m     name_prefix\u001b[39m=\u001b[39;49mname_prefix,\n\u001b[1;32m   1394\u001b[0m     token\u001b[39m=\u001b[39;49mtoken,\n\u001b[1;32m   1395\u001b[0m     lock\u001b[39m=\u001b[39;49mlock,\n\u001b[1;32m   1396\u001b[0m     inline_array\u001b[39m=\u001b[39;49minline_array,\n\u001b[1;32m   1397\u001b[0m     chunked_array_type\u001b[39m=\u001b[39;49mchunked_array_type,\n\u001b[1;32m   1398\u001b[0m     from_array_kwargs\u001b[39m=\u001b[39;49mfrom_array_kwargs,\n\u001b[1;32m   1399\u001b[0m )\n\u001b[1;32m   1400\u001b[0m \u001b[39mreturn\u001b[39;00m \u001b[39mself\u001b[39m\u001b[39m.\u001b[39m_from_temp_dataset(ds)\n",
      "File \u001b[0;32m~/Dropbox/Git/greenWater_Forest/python_explore/.venv/lib/python3.11/site-packages/xarray/core/dataset.py:2702\u001b[0m, in \u001b[0;36mDataset.chunk\u001b[0;34m(self, chunks, name_prefix, token, lock, inline_array, chunked_array_type, from_array_kwargs, **chunks_kwargs)\u001b[0m\n\u001b[1;32m   2697\u001b[0m \u001b[39mif\u001b[39;00m bad_dims:\n\u001b[1;32m   2698\u001b[0m     \u001b[39mraise\u001b[39;00m \u001b[39mValueError\u001b[39;00m(\n\u001b[1;32m   2699\u001b[0m         \u001b[39mf\u001b[39m\u001b[39m\"\u001b[39m\u001b[39mchunks keys \u001b[39m\u001b[39m{\u001b[39;00m\u001b[39mtuple\u001b[39m(bad_dims)\u001b[39m}\u001b[39;00m\u001b[39m not found in data dimensions \u001b[39m\u001b[39m{\u001b[39;00m\u001b[39mtuple\u001b[39m(\u001b[39mself\u001b[39m\u001b[39m.\u001b[39msizes\u001b[39m.\u001b[39mkeys())\u001b[39m}\u001b[39;00m\u001b[39m\"\u001b[39m\n\u001b[1;32m   2700\u001b[0m     )\n\u001b[0;32m-> 2702\u001b[0m chunkmanager \u001b[39m=\u001b[39m guess_chunkmanager(chunked_array_type)\n\u001b[1;32m   2703\u001b[0m \u001b[39mif\u001b[39;00m from_array_kwargs \u001b[39mis\u001b[39;00m \u001b[39mNone\u001b[39;00m:\n\u001b[1;32m   2704\u001b[0m     from_array_kwargs \u001b[39m=\u001b[39m {}\n",
      "File \u001b[0;32m~/Dropbox/Git/greenWater_Forest/python_explore/.venv/lib/python3.11/site-packages/xarray/core/parallelcompat.py:93\u001b[0m, in \u001b[0;36mguess_chunkmanager\u001b[0;34m(manager)\u001b[0m\n\u001b[1;32m     91\u001b[0m \u001b[39mif\u001b[39;00m \u001b[39misinstance\u001b[39m(manager, \u001b[39mstr\u001b[39m):\n\u001b[1;32m     92\u001b[0m     \u001b[39mif\u001b[39;00m manager \u001b[39mnot\u001b[39;00m \u001b[39min\u001b[39;00m chunkmanagers:\n\u001b[0;32m---> 93\u001b[0m         \u001b[39mraise\u001b[39;00m \u001b[39mValueError\u001b[39;00m(\n\u001b[1;32m     94\u001b[0m             \u001b[39mf\u001b[39m\u001b[39m\"\u001b[39m\u001b[39munrecognized chunk manager \u001b[39m\u001b[39m{\u001b[39;00mmanager\u001b[39m}\u001b[39;00m\u001b[39m - must be one of: \u001b[39m\u001b[39m{\u001b[39;00m\u001b[39mlist\u001b[39m(chunkmanagers)\u001b[39m}\u001b[39;00m\u001b[39m\"\u001b[39m\n\u001b[1;32m     95\u001b[0m         )\n\u001b[1;32m     97\u001b[0m     \u001b[39mreturn\u001b[39;00m chunkmanagers[manager]\n\u001b[1;32m     98\u001b[0m \u001b[39melif\u001b[39;00m \u001b[39misinstance\u001b[39m(manager, ChunkManagerEntrypoint):\n\u001b[1;32m     99\u001b[0m     \u001b[39m# already a valid ChunkManager so just pass through\u001b[39;00m\n",
      "\u001b[0;31mValueError\u001b[0m: unrecognized chunk manager dask - must be one of: []"
     ]
    }
   ],
   "source": [
    "india_boundary = gpd.read_file(\"/Users/tejasvi/Dropbox/Database/Admin/India_boundary.gpkg\")\n",
    "test_raster = riox.open_rasterio(\"/Users/tejasvi/Dropbox/Database/Forestry/forest_fragmentation_Ma_2023/FFI2020.tif\",\n",
    "                                 masked=True, chunks=(3, 5000, 5000))\n",
    "\n",
    "india_boundary\n",
    "test_raster\n",
    "\n",
    "test_raster.plot(robust=True)"
   ]
  },
  {
   "cell_type": "code",
   "execution_count": 21,
   "metadata": {},
   "outputs": [
    {
     "data": {
      "text/plain": [
       "<Geographic 2D CRS: EPSG:4326>\n",
       "Name: WGS 84\n",
       "Axis Info [ellipsoidal]:\n",
       "- Lat[north]: Geodetic latitude (degree)\n",
       "- Lon[east]: Geodetic longitude (degree)\n",
       "Area of Use:\n",
       "- name: World.\n",
       "- bounds: (-180.0, -90.0, 180.0, 90.0)\n",
       "Datum: World Geodetic System 1984 ensemble\n",
       "- Ellipsoid: WGS 84\n",
       "- Prime Meridian: Greenwich"
      ]
     },
     "execution_count": 21,
     "metadata": {},
     "output_type": "execute_result"
    }
   ],
   "source": []
  },
  {
   "cell_type": "code",
   "execution_count": null,
   "metadata": {},
   "outputs": [],
   "source": []
  }
 ],
 "metadata": {
  "kernelspec": {
   "display_name": ".venv",
   "language": "python",
   "name": "python3"
  },
  "language_info": {
   "codemirror_mode": {
    "name": "ipython",
    "version": 3
   },
   "file_extension": ".py",
   "mimetype": "text/x-python",
   "name": "python",
   "nbconvert_exporter": "python",
   "pygments_lexer": "ipython3",
   "version": "3.11.6"
  },
  "orig_nbformat": 4
 },
 "nbformat": 4,
 "nbformat_minor": 2
}
